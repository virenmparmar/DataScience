{
 "cells": [
  {
   "cell_type": "markdown",
   "metadata": {},
   "source": [
    "### Data Science for Business | Manegerial\n",
    "#### Team 5 :\n",
    "Alex Umansky\n",
    "\n",
    "Dominic Kang\n",
    "\n",
    "Leo Liu\n",
    "\n",
    "Viren Parmar"
   ]
  },
  {
   "cell_type": "markdown",
   "metadata": {},
   "source": [
    "#### In this python notebook you can find the implementation of data science algorithms for the Lending Club dataset, where we are trying to predict the interest rate based on the features provided."
   ]
  },
  {
   "cell_type": "markdown",
   "metadata": {},
   "source": [
    "Importing libraries"
   ]
  },
  {
   "cell_type": "code",
   "execution_count": 2,
   "metadata": {},
   "outputs": [],
   "source": [
    "import pandas as pd\n",
    "import numpy as np\n",
    "import matplotlib.pyplot as plt\n",
    "from sklearn.model_selection import train_test_split\n",
    "import io"
   ]
  },
  {
   "cell_type": "markdown",
   "metadata": {},
   "source": [
    "Reading Data"
   ]
  },
  {
   "cell_type": "code",
   "execution_count": 134,
   "metadata": {},
   "outputs": [],
   "source": [
    "with io.open('completed_accepted_2018_small.csv', 'r', encoding='windows-1252') as f:\n",
    "    df = pd.read_csv(f)"
   ]
  },
  {
   "cell_type": "code",
   "execution_count": 135,
   "metadata": {},
   "outputs": [
    {
     "data": {
      "text/html": [
       "<div>\n",
       "<style scoped>\n",
       "    .dataframe tbody tr th:only-of-type {\n",
       "        vertical-align: middle;\n",
       "    }\n",
       "\n",
       "    .dataframe tbody tr th {\n",
       "        vertical-align: top;\n",
       "    }\n",
       "\n",
       "    .dataframe thead th {\n",
       "        text-align: right;\n",
       "    }\n",
       "</style>\n",
       "<table border=\"1\" class=\"dataframe\">\n",
       "  <thead>\n",
       "    <tr style=\"text-align: right;\">\n",
       "      <th></th>\n",
       "      <th>id</th>\n",
       "      <th>loan_amnt</th>\n",
       "      <th>term</th>\n",
       "      <th>int_rate</th>\n",
       "      <th>emp_title</th>\n",
       "      <th>emp_length</th>\n",
       "      <th>home_ownership</th>\n",
       "      <th>annual_inc</th>\n",
       "      <th>issue_d</th>\n",
       "      <th>purpose</th>\n",
       "      <th>...</th>\n",
       "      <th>num_tl_op_past_12m</th>\n",
       "      <th>pct_tl_nvr_dlq</th>\n",
       "      <th>percent_bc_gt_75</th>\n",
       "      <th>pub_rec_bankruptcies</th>\n",
       "      <th>tax_liens</th>\n",
       "      <th>tot_hi_cred_lim</th>\n",
       "      <th>total_bal_ex_mort</th>\n",
       "      <th>total_bc_limit</th>\n",
       "      <th>total_il_high_credit_limit</th>\n",
       "      <th>disbursement_method</th>\n",
       "    </tr>\n",
       "  </thead>\n",
       "  <tbody>\n",
       "    <tr>\n",
       "      <th>0</th>\n",
       "      <td>130956066</td>\n",
       "      <td>3000</td>\n",
       "      <td>36 months</td>\n",
       "      <td>7.34</td>\n",
       "      <td>Scale Technician</td>\n",
       "      <td>9 years</td>\n",
       "      <td>RENT</td>\n",
       "      <td>52000.0</td>\n",
       "      <td>18-Mar</td>\n",
       "      <td>major_purchase</td>\n",
       "      <td>...</td>\n",
       "      <td>1</td>\n",
       "      <td>96.7</td>\n",
       "      <td>0.0</td>\n",
       "      <td>0</td>\n",
       "      <td>0</td>\n",
       "      <td>191216</td>\n",
       "      <td>141</td>\n",
       "      <td>30500</td>\n",
       "      <td>0</td>\n",
       "      <td>Cash</td>\n",
       "    </tr>\n",
       "    <tr>\n",
       "      <th>1</th>\n",
       "      <td>130968727</td>\n",
       "      <td>5000</td>\n",
       "      <td>36 months</td>\n",
       "      <td>11.98</td>\n",
       "      <td>SDO Supervisor</td>\n",
       "      <td>10+ years</td>\n",
       "      <td>OWN</td>\n",
       "      <td>55000.0</td>\n",
       "      <td>18-Mar</td>\n",
       "      <td>other</td>\n",
       "      <td>...</td>\n",
       "      <td>2</td>\n",
       "      <td>95.7</td>\n",
       "      <td>33.3</td>\n",
       "      <td>1</td>\n",
       "      <td>0</td>\n",
       "      <td>61551</td>\n",
       "      <td>28880</td>\n",
       "      <td>22000</td>\n",
       "      <td>27751</td>\n",
       "      <td>Cash</td>\n",
       "    </tr>\n",
       "    <tr>\n",
       "      <th>2</th>\n",
       "      <td>130910225</td>\n",
       "      <td>7000</td>\n",
       "      <td>36 months</td>\n",
       "      <td>11.98</td>\n",
       "      <td>Parole</td>\n",
       "      <td>&lt; 1 year</td>\n",
       "      <td>MORTGAGE</td>\n",
       "      <td>40000.0</td>\n",
       "      <td>18-Mar</td>\n",
       "      <td>home_improvement</td>\n",
       "      <td>...</td>\n",
       "      <td>2</td>\n",
       "      <td>89.7</td>\n",
       "      <td>33.3</td>\n",
       "      <td>0</td>\n",
       "      <td>0</td>\n",
       "      <td>132817</td>\n",
       "      <td>131726</td>\n",
       "      <td>10000</td>\n",
       "      <td>118917</td>\n",
       "      <td>Cash</td>\n",
       "    </tr>\n",
       "    <tr>\n",
       "      <th>3</th>\n",
       "      <td>130966492</td>\n",
       "      <td>30000</td>\n",
       "      <td>36 months</td>\n",
       "      <td>21.85</td>\n",
       "      <td>teacher</td>\n",
       "      <td>10+ years</td>\n",
       "      <td>OWN</td>\n",
       "      <td>57000.0</td>\n",
       "      <td>18-Mar</td>\n",
       "      <td>debt_consolidation</td>\n",
       "      <td>...</td>\n",
       "      <td>5</td>\n",
       "      <td>96.0</td>\n",
       "      <td>33.3</td>\n",
       "      <td>0</td>\n",
       "      <td>0</td>\n",
       "      <td>188780</td>\n",
       "      <td>62252</td>\n",
       "      <td>29400</td>\n",
       "      <td>35000</td>\n",
       "      <td>Cash</td>\n",
       "    </tr>\n",
       "    <tr>\n",
       "      <th>4</th>\n",
       "      <td>130942737</td>\n",
       "      <td>21000</td>\n",
       "      <td>60 months</td>\n",
       "      <td>20.39</td>\n",
       "      <td>Machine operator</td>\n",
       "      <td>10+ years</td>\n",
       "      <td>OWN</td>\n",
       "      <td>85000.0</td>\n",
       "      <td>18-Mar</td>\n",
       "      <td>house</td>\n",
       "      <td>...</td>\n",
       "      <td>4</td>\n",
       "      <td>92.6</td>\n",
       "      <td>16.7</td>\n",
       "      <td>0</td>\n",
       "      <td>0</td>\n",
       "      <td>172433</td>\n",
       "      <td>51667</td>\n",
       "      <td>27100</td>\n",
       "      <td>39733</td>\n",
       "      <td>Cash</td>\n",
       "    </tr>\n",
       "  </tbody>\n",
       "</table>\n",
       "<p>5 rows × 91 columns</p>\n",
       "</div>"
      ],
      "text/plain": [
       "          id  loan_amnt        term  int_rate         emp_title emp_length  \\\n",
       "0  130956066       3000   36 months      7.34  Scale Technician    9 years   \n",
       "1  130968727       5000   36 months     11.98    SDO Supervisor  10+ years   \n",
       "2  130910225       7000   36 months     11.98            Parole   < 1 year   \n",
       "3  130966492      30000   36 months     21.85           teacher  10+ years   \n",
       "4  130942737      21000   60 months     20.39  Machine operator  10+ years   \n",
       "\n",
       "  home_ownership  annual_inc issue_d             purpose  ...  \\\n",
       "0           RENT     52000.0  18-Mar      major_purchase  ...   \n",
       "1            OWN     55000.0  18-Mar               other  ...   \n",
       "2       MORTGAGE     40000.0  18-Mar    home_improvement  ...   \n",
       "3            OWN     57000.0  18-Mar  debt_consolidation  ...   \n",
       "4            OWN     85000.0  18-Mar               house  ...   \n",
       "\n",
       "  num_tl_op_past_12m pct_tl_nvr_dlq percent_bc_gt_75  pub_rec_bankruptcies  \\\n",
       "0                  1           96.7              0.0                     0   \n",
       "1                  2           95.7             33.3                     1   \n",
       "2                  2           89.7             33.3                     0   \n",
       "3                  5           96.0             33.3                     0   \n",
       "4                  4           92.6             16.7                     0   \n",
       "\n",
       "   tax_liens tot_hi_cred_lim  total_bal_ex_mort  total_bc_limit  \\\n",
       "0          0          191216                141           30500   \n",
       "1          0           61551              28880           22000   \n",
       "2          0          132817             131726           10000   \n",
       "3          0          188780              62252           29400   \n",
       "4          0          172433              51667           27100   \n",
       "\n",
       "   total_il_high_credit_limit  disbursement_method  \n",
       "0                           0                 Cash  \n",
       "1                       27751                 Cash  \n",
       "2                      118917                 Cash  \n",
       "3                       35000                 Cash  \n",
       "4                       39733                 Cash  \n",
       "\n",
       "[5 rows x 91 columns]"
      ]
     },
     "execution_count": 135,
     "metadata": {},
     "output_type": "execute_result"
    }
   ],
   "source": [
    "df.head()"
   ]
  },
  {
   "cell_type": "markdown",
   "metadata": {},
   "source": [
    "Here we have targeted data from 2018 and only 10000 samples. "
   ]
  },
  {
   "cell_type": "code",
   "execution_count": 136,
   "metadata": {},
   "outputs": [
    {
     "data": {
      "text/plain": [
       "(10000, 91)"
      ]
     },
     "execution_count": 136,
     "metadata": {},
     "output_type": "execute_result"
    }
   ],
   "source": [
    "df.shape"
   ]
  },
  {
   "cell_type": "markdown",
   "metadata": {},
   "source": [
    "Cleaning up the data to remove all the unimportant features."
   ]
  },
  {
   "cell_type": "code",
   "execution_count": 138,
   "metadata": {},
   "outputs": [],
   "source": [
    "df1 = df.copy()\n",
    "y = df1['int_rate']\n",
    "df1.drop(['int_rate', 'issue_d', 'earliest_cr_line', 'last_credit_pull_d','emp_title', 'title'], axis=1, inplace=True)"
   ]
  },
  {
   "cell_type": "code",
   "execution_count": 139,
   "metadata": {},
   "outputs": [
    {
     "data": {
      "text/plain": [
       "(10000, 85)"
      ]
     },
     "execution_count": 139,
     "metadata": {},
     "output_type": "execute_result"
    }
   ],
   "source": [
    "df1.shape"
   ]
  },
  {
   "cell_type": "markdown",
   "metadata": {},
   "source": [
    "Now we need to convert the categorical data into binomial values."
   ]
  },
  {
   "cell_type": "code",
   "execution_count": 140,
   "metadata": {},
   "outputs": [],
   "source": [
    "columns_to_be_encoded = ['term','emp_length','home_ownership','purpose','addr_state','initial_list_status', 'application_type','disbursement_method']\n",
    "train_data = pd.get_dummies(df1, columns=columns_to_be_encoded)"
   ]
  },
  {
   "cell_type": "code",
   "execution_count": 141,
   "metadata": {},
   "outputs": [],
   "source": [
    "train_data['zip_code'] = train_data.zip_code.str.slice(0,3)\n",
    "train_data['zip_code'] = train_data.zip_code.astype(int)"
   ]
  },
  {
   "cell_type": "code",
   "execution_count": 142,
   "metadata": {},
   "outputs": [
    {
     "data": {
      "text/plain": [
       "id                                 int64\n",
       "loan_amnt                          int64\n",
       "annual_inc                       float64\n",
       "zip_code                           int64\n",
       "dti                              float64\n",
       "                                  ...   \n",
       "initial_list_status_w              uint8\n",
       "application_type_Individual        uint8\n",
       "application_type_Joint App         uint8\n",
       "disbursement_method_Cash           uint8\n",
       "disbursement_method_DirectPay      uint8\n",
       "Length: 162, dtype: object"
      ]
     },
     "execution_count": 142,
     "metadata": {},
     "output_type": "execute_result"
    }
   ],
   "source": [
    "train_data.dtypes"
   ]
  },
  {
   "cell_type": "code",
   "execution_count": 52,
   "metadata": {},
   "outputs": [],
   "source": [
    "train_data = df1\n",
    "target = df['int_rate']"
   ]
  },
  {
   "cell_type": "code",
   "execution_count": 144,
   "metadata": {},
   "outputs": [],
   "source": [
    "x = train_data"
   ]
  },
  {
   "cell_type": "code",
   "execution_count": 146,
   "metadata": {},
   "outputs": [],
   "source": [
    "y = df['int_rate']"
   ]
  },
  {
   "cell_type": "code",
   "execution_count": 147,
   "metadata": {},
   "outputs": [],
   "source": [
    "data = pd.concat([x, y], axis=1)"
   ]
  },
  {
   "cell_type": "code",
   "execution_count": 84,
   "metadata": {},
   "outputs": [],
   "source": [
    "data.to_csv('data.csv')"
   ]
  },
  {
   "cell_type": "code",
   "execution_count": 148,
   "metadata": {},
   "outputs": [],
   "source": [
    "x.replace([np.inf, -np.inf], np.nan, inplace=True)"
   ]
  },
  {
   "cell_type": "code",
   "execution_count": 149,
   "metadata": {},
   "outputs": [],
   "source": [
    "for col in x.columns:\n",
    "    x.loc[x[col].isna(), col] = x[col].median()\n"
   ]
  },
  {
   "cell_type": "code",
   "execution_count": 150,
   "metadata": {},
   "outputs": [
    {
     "data": {
      "text/plain": [
       "id                               0\n",
       "loan_amnt                        0\n",
       "annual_inc                       0\n",
       "zip_code                         0\n",
       "dti                              0\n",
       "                                ..\n",
       "initial_list_status_w            0\n",
       "application_type_Individual      0\n",
       "application_type_Joint App       0\n",
       "disbursement_method_Cash         0\n",
       "disbursement_method_DirectPay    0\n",
       "Length: 162, dtype: int64"
      ]
     },
     "execution_count": 150,
     "metadata": {},
     "output_type": "execute_result"
    }
   ],
   "source": [
    "x.isna().sum()"
   ]
  },
  {
   "cell_type": "markdown",
   "metadata": {},
   "source": [
    "## First we will run the basic linear regression and check if it can build a model onn our data"
   ]
  },
  {
   "cell_type": "markdown",
   "metadata": {},
   "source": [
    "##### Splitting the training and test dataset"
   ]
  },
  {
   "cell_type": "code",
   "execution_count": 126,
   "metadata": {},
   "outputs": [],
   "source": [
    "X_train, X_test, Y_train, Y_test = train_test_split(x , y, test_size = 0.2, random_state = 42)"
   ]
  },
  {
   "cell_type": "code",
   "execution_count": 127,
   "metadata": {},
   "outputs": [],
   "source": [
    "from sklearn.linear_model import LinearRegression\n"
   ]
  },
  {
   "cell_type": "code",
   "execution_count": 128,
   "metadata": {},
   "outputs": [
    {
     "data": {
      "text/plain": [
       "LinearRegression()"
      ]
     },
     "execution_count": 128,
     "metadata": {},
     "output_type": "execute_result"
    }
   ],
   "source": [
    "model = LinearRegression()\n",
    "model.fit(X_train, Y_train)\n"
   ]
  },
  {
   "cell_type": "code",
   "execution_count": 129,
   "metadata": {},
   "outputs": [],
   "source": [
    "Y_pred = model.predict(X_test)"
   ]
  },
  {
   "cell_type": "code",
   "execution_count": 130,
   "metadata": {},
   "outputs": [],
   "source": [
    "rsme = np.sqrt(np.mean((Y_pred - Y_test)**2))"
   ]
  },
  {
   "cell_type": "code",
   "execution_count": 131,
   "metadata": {},
   "outputs": [
    {
     "data": {
      "text/plain": [
       "3.7818007436261576"
      ]
     },
     "execution_count": 131,
     "metadata": {},
     "output_type": "execute_result"
    }
   ],
   "source": [
    "rsme"
   ]
  },
  {
   "cell_type": "code",
   "execution_count": 132,
   "metadata": {},
   "outputs": [
    {
     "data": {
      "text/plain": [
       "162"
      ]
     },
     "execution_count": 132,
     "metadata": {},
     "output_type": "execute_result"
    }
   ],
   "source": [
    "#Get the coefficients\n",
    "len(model.coef_)"
   ]
  },
  {
   "cell_type": "code",
   "execution_count": 133,
   "metadata": {},
   "outputs": [
    {
     "name": "stdout",
     "output_type": "stream",
     "text": [
      "loan_amnt -1.1880351541595758e-07\n",
      "annual_inc 4.865801346636568e-06\n",
      "zip_code -6.116191040734388e-06\n",
      "dti 0.0029314535836203514\n",
      "delinq_2yrs 0.009730613879473675\n",
      "fico_range_low 0.3864272323287869\n",
      "fico_range_high -0.014971750347979516\n",
      "inq_last_6mths -0.014971748645581881\n",
      "mths_since_last_delinq 0.3525809312808491\n",
      "mths_since_last_record -0.0179122199656079\n",
      "open_acc 0.00636239347327234\n",
      "pub_rec -0.35388227616055334\n",
      "revol_bal -0.5663201521816724\n",
      "revol_util 1.1131237798124236e-06\n",
      "total_acc 0.008200332608419002\n",
      "out_prncp 0.07598528203305857\n",
      "out_prncp_inv 8.653180573057852e-05\n",
      "last_fico_range_high 8.653131965260597e-05\n",
      "last_fico_range_low -0.011328616644759508\n",
      "collections_12_mths_ex_med 0.0009941636802519396\n",
      "policy_code 0.09316514501141883\n",
      "acc_now_delinq -4.849973547771391e-10\n",
      "tot_coll_amt -3.3723124045527295\n",
      "tot_cur_bal 3.340411932548082e-07\n",
      "open_acc_6m 2.1328946106374813e-06\n",
      "open_act_il 0.059875489092398586\n",
      "open_il_12m -0.1563027327627041\n",
      "open_il_24m 0.4786661471602764\n",
      "mths_since_rcnt_il 0.055731459972777356\n",
      "total_bal_il -0.002391644261241832\n",
      "il_util -2.1897603206089133e-05\n",
      "open_rv_12m 0.003001376920977114\n",
      "open_rv_24m 0.06264296895016433\n",
      "max_bal_bc 0.0675527570857267\n",
      "all_util -1.6944353786851885e-05\n",
      "total_rev_hi_lim 0.02796469189073547\n",
      "inq_fi -1.3116760786691106e-05\n",
      "total_cu_tl 0.10093769053919241\n",
      "inq_last_12m -0.024085026765590697\n",
      "acc_open_past_24mths 0.003246400149993542\n",
      "avg_cur_bal -0.03507403769378856\n",
      "bc_open_to_buy -7.325170112482127e-06\n",
      "bc_util -1.9554196532683976e-05\n",
      "chargeoff_within_12_mths -0.0005078727401586214\n",
      "delinq_amnt 0.36193016415654566\n",
      "mo_sin_old_il_acct 0.002386972473711932\n",
      "mo_sin_old_rev_tl_op -0.0019861058937802323\n",
      "mo_sin_rcnt_rev_tl_op -0.0022190699560539207\n",
      "mo_sin_rcnt_tl -0.004099012794811285\n",
      "mort_acc -0.003429420725178489\n",
      "mths_since_recent_bc -0.2815564182153978\n",
      "mths_since_recent_bc_dlq -0.007344927368673315\n",
      "mths_since_recent_inq -0.009093360935267636\n",
      "mths_since_recent_revol_delinq -0.004448473276969053\n",
      "num_accts_ever_120_pd 0.00162035996406662\n",
      "num_actv_bc_tl -0.013691381304156716\n",
      "num_actv_rev_tl -0.09087947918548903\n",
      "num_bc_sats -0.01706525105740294\n",
      "num_bc_tl -0.05535408564755995\n",
      "num_il_tl 0.0012745076877815342\n",
      "num_op_rev_tl -0.12019904777892365\n",
      "num_rev_accts -0.07907292415753375\n",
      "num_rev_tl_bal_gt_0 -0.09083577014951338\n",
      "num_sats 0.0872564038912735\n",
      "num_tl_120dpd_2m 0.49693219588265836\n",
      "num_tl_30dpd 1.587618925213974e-14\n",
      "num_tl_90g_dpd_24m -3.37231240423451\n",
      "num_tl_op_past_12m -0.26014760018190464\n",
      "pct_tl_nvr_dlq -0.01489274343385874\n",
      "percent_bc_gt_75 0.003709656304774489\n",
      "pub_rec_bankruptcies 0.024985843304208055\n",
      "tax_liens 0.1480174559053631\n",
      "tot_hi_cred_lim 0.6670670271527032\n",
      "total_bal_ex_mort -2.2266026147299556e-06\n",
      "total_bc_limit 1.382194790422453e-05\n",
      "total_il_high_credit_limit 1.991469344975183e-05\n",
      "term_ 36 months 9.7126746500531e-06\n",
      "term_ 60 months -2.4135802310831234\n",
      "emp_length_1 year 2.413580231083196\n",
      "emp_length_10+ years -1.03921490085402\n",
      "emp_length_2 years -1.0231384365072531\n",
      "emp_length_3 years -0.8945894411633221\n",
      "emp_length_4 years -0.8474047364265788\n",
      "emp_length_5 years -1.1162480437532127\n",
      "emp_length_6 years -0.9627613668542171\n",
      "emp_length_7 years -1.1760391316292977\n",
      "emp_length_8 years -0.9023955215284772\n",
      "emp_length_9 years -0.8588693566925216\n",
      "emp_length_< 1 year -0.8975920123479063\n",
      "home_ownership_MORTGAGE -0.6735661119880746\n",
      "home_ownership_OWN -0.3892510824059473\n",
      "home_ownership_RENT 0.3575098494459373\n",
      "purpose_car 0.03174123296004643\n",
      "purpose_credit_card -0.6769240142326204\n",
      "purpose_debt_consolidation -1.27673126792891\n",
      "purpose_home_improvement -0.28450226165210357\n",
      "purpose_house -1.2176965022676618\n",
      "purpose_major_purchase -0.5964809369138575\n",
      "purpose_medical -0.5934273706028957\n",
      "purpose_moving 0.027112125123904207\n",
      "purpose_other -0.27050543003821065\n",
      "purpose_renewable_energy -0.3043262851689979\n",
      "purpose_small_business -0.2973405217713133\n",
      "purpose_vacation -0.2506043562580978\n",
      "purpose_wedding 0.15056412318590884\n",
      "addr_state_AK 5.590862698524931\n",
      "addr_state_AL 0.3798970968313408\n",
      "addr_state_AR 0.18720652732345225\n",
      "addr_state_AZ 0.20412714972443857\n",
      "addr_state_CA -1.2508003852277405\n",
      "addr_state_CO -1.2128809840949426\n",
      "addr_state_CT -1.4540346461212\n",
      "addr_state_DC 1.8659136854092078\n",
      "addr_state_DE 2.1789106933454434\n",
      "addr_state_FL 1.0292451003566803\n",
      "addr_state_GA 0.2801175423156389\n",
      "addr_state_HI 0.9212531098866082\n",
      "addr_state_ID -0.3347293891620489\n",
      "addr_state_IL -0.9818491787022314\n",
      "addr_state_IN -0.6008275230782179\n",
      "addr_state_KS -0.4334164216854249\n",
      "addr_state_KY -1.448627071998548\n",
      "addr_state_LA 0.5887560466371659\n",
      "addr_state_MA -0.48059328722136724\n",
      "addr_state_MD 1.0560011161591778\n",
      "addr_state_ME 1.1051981001764233\n",
      "addr_state_MI 1.0188415395170884\n",
      "addr_state_MN 0.16374508401013632\n",
      "addr_state_MO -0.3080816331078888\n",
      "addr_state_MS -1.0539262533008558\n",
      "addr_state_MT 0.7780417465735121\n",
      "addr_state_NC -0.07981803972953125\n",
      "addr_state_ND 0.2639536097838464\n",
      "addr_state_NE -0.5115079775480003\n",
      "addr_state_NH -1.4106752035155492\n",
      "addr_state_NJ 1.6747390438556795\n",
      "addr_state_NM 1.0160377085347536\n",
      "addr_state_NV -1.682491223296251\n",
      "addr_state_NY -1.4283685954682246\n",
      "addr_state_OH 1.0651116095590318\n",
      "addr_state_OK 0.49355005624622644\n",
      "addr_state_OR -1.0365791975177092\n",
      "addr_state_PA -1.1537009312588504\n",
      "addr_state_RI 0.6364505021492385\n",
      "addr_state_SC 1.286094251819335\n",
      "addr_state_SD 0.7687588278046715\n",
      "addr_state_TN -2.258359294263322\n",
      "addr_state_TX 0.01777230179576557\n",
      "addr_state_UT -0.9957023611066793\n",
      "addr_state_VA -0.899223997064321\n",
      "addr_state_VT 0.6938610899953898\n",
      "addr_state_WA 2.073254489788361\n",
      "addr_state_WI -1.4115940047954063\n",
      "addr_state_WV -0.20978277971020326\n",
      "addr_state_WY 0.9425229558334602\n",
      "initial_list_status_f -0.05179060645760996\n",
      "initial_list_status_w 1.0002084723369289\n",
      "application_type_Individual -1.0002084723368436\n",
      "application_type_Joint App -0.32250771877777956\n",
      "disbursement_method_Cash 0.3225077187776021\n",
      "disbursement_method_DirectPay 1.5534214647652138\n"
     ]
    }
   ],
   "source": [
    "for colum, coeff in zip(x.columns[1:], model.coef_):\n",
    "    print(colum, coeff)"
   ]
  },
  {
   "cell_type": "code",
   "execution_count": 92,
   "metadata": {},
   "outputs": [
    {
     "name": "stdout",
     "output_type": "stream",
     "text": [
      "\u001b[33mDEPRECATION: Configuring installation scheme with distutils config files is deprecated and will no longer work in the near future. If you are using a Homebrew or Linuxbrew Python, please see discussion at https://github.com/Homebrew/homebrew-core/issues/76621\u001b[0m\u001b[33m\n",
      "\u001b[0mCollecting xgboost\n",
      "  Downloading xgboost-1.6.0-py3-none-macosx_12_0_arm64.whl (1.5 MB)\n",
      "\u001b[2K     \u001b[90m━━━━━━━━━━━━━━━━━━━━━━━━━━━━━━━━━━━━━━━━\u001b[0m \u001b[32m1.5/1.5 MB\u001b[0m \u001b[31m9.8 MB/s\u001b[0m eta \u001b[36m0:00:00\u001b[0m:00:01\u001b[0m00:01\u001b[0m\n",
      "\u001b[?25hRequirement already satisfied: scipy in /opt/homebrew/lib/python3.9/site-packages (from xgboost) (1.8.0)\n",
      "Requirement already satisfied: numpy in /opt/homebrew/lib/python3.9/site-packages (from xgboost) (1.21.3)\n",
      "Installing collected packages: xgboost\n",
      "\u001b[33m  DEPRECATION: Configuring installation scheme with distutils config files is deprecated and will no longer work in the near future. If you are using a Homebrew or Linuxbrew Python, please see discussion at https://github.com/Homebrew/homebrew-core/issues/76621\u001b[0m\u001b[33m\n",
      "\u001b[0m\u001b[33mDEPRECATION: Configuring installation scheme with distutils config files is deprecated and will no longer work in the near future. If you are using a Homebrew or Linuxbrew Python, please see discussion at https://github.com/Homebrew/homebrew-core/issues/76621\u001b[0m\u001b[33m\n",
      "\u001b[0mSuccessfully installed xgboost-1.6.0\n"
     ]
    }
   ],
   "source": [
    "!pip install xgboost"
   ]
  },
  {
   "cell_type": "markdown",
   "metadata": {},
   "source": [
    "### Initially, we are using a 80% split of the training data to build different model and get the best one. The accuraccy mesure that we are using is Root Mean Squared Error."
   ]
  },
  {
   "cell_type": "markdown",
   "metadata": {},
   "source": [
    "## XGBoost"
   ]
  },
  {
   "cell_type": "code",
   "execution_count": 154,
   "metadata": {},
   "outputs": [],
   "source": [
    "from xgboost import XGBRegressor"
   ]
  },
  {
   "cell_type": "code",
   "execution_count": 95,
   "metadata": {},
   "outputs": [],
   "source": [
    "data_clean = pd.read_csv('data.csv')\n",
    "train_data = data_clean.drop(columns=['int_rate'], axis=1)\n",
    "target = data_clean['int_rate']\n",
    "x = train_data\n",
    "y = target\n",
    "x.replace([np.inf, -np.inf], np.nan, inplace=True)\n",
    "for col in x.columns:\n",
    "    x.loc[x[col].isna(), col] = x[col].median()"
   ]
  },
  {
   "cell_type": "code",
   "execution_count": 96,
   "metadata": {},
   "outputs": [
    {
     "name": "stdout",
     "output_type": "stream",
     "text": [
      "3.638935031987451\n"
     ]
    }
   ],
   "source": [
    "X_train, X_test, Y_train, Y_test = train_test_split(x , y, test_size = 0.2, random_state = 42)\n",
    "model_xgb = XGBRegressor(n_estimators=1000, learning_rate=0.05)\n",
    "model_xgb.fit(X_train, Y_train)\n",
    "Y_pred = model_xgb.predict(X_test)\n",
    "rsme = np.sqrt(np.mean((Y_pred - Y_test)**2))\n",
    "print(rsme)"
   ]
  },
  {
   "cell_type": "markdown",
   "metadata": {},
   "source": [
    "## Linear Regression"
   ]
  },
  {
   "cell_type": "code",
   "execution_count": null,
   "metadata": {},
   "outputs": [],
   "source": [
    "data_clean = pd.read_csv('data.csv')\n",
    "train_data = data_clean.drop(columns=['int_rate'], axis=1)\n",
    "target = data_clean['int_rate']\n",
    "x = train_data\n",
    "y = target\n",
    "x.replace([np.inf, -np.inf], np.nan, inplace=True)\n",
    "for col in x.columns:\n",
    "    x.loc[x[col].isna(), col] = x[col].median()"
   ]
  },
  {
   "cell_type": "code",
   "execution_count": 97,
   "metadata": {},
   "outputs": [
    {
     "name": "stdout",
     "output_type": "stream",
     "text": [
      "3.781237138782922\n"
     ]
    }
   ],
   "source": [
    "X_train, X_test, Y_train, Y_test = train_test_split(x , y, test_size = 0.2, random_state = 42)\n",
    "model = LinearRegression()\n",
    "model.fit(X_train, Y_train)\n",
    "Y_pred = model.predict(X_test)\n",
    "rsme = np.sqrt(np.mean((Y_pred - Y_test)**2))\n",
    "print(rsme)"
   ]
  },
  {
   "cell_type": "markdown",
   "metadata": {},
   "source": [
    "## ADBoost"
   ]
  },
  {
   "cell_type": "code",
   "execution_count": 101,
   "metadata": {},
   "outputs": [],
   "source": [
    "# code for adaboot\n",
    "from sklearn.ensemble import AdaBoostRegressor"
   ]
  },
  {
   "cell_type": "code",
   "execution_count": null,
   "metadata": {},
   "outputs": [],
   "source": [
    "data_clean = pd.read_csv('data.csv')\n",
    "train_data = data_clean.drop(columns=['int_rate'], axis=1)\n",
    "target = data_clean['int_rate']\n",
    "x = train_data\n",
    "y = target\n",
    "x.replace([np.inf, -np.inf], np.nan, inplace=True)\n",
    "for col in x.columns:\n",
    "    x.loc[x[col].isna(), col] = x[col].median()"
   ]
  },
  {
   "cell_type": "code",
   "execution_count": 102,
   "metadata": {},
   "outputs": [
    {
     "name": "stdout",
     "output_type": "stream",
     "text": [
      "4.634735793197426\n"
     ]
    }
   ],
   "source": [
    "X_train, X_test, Y_train, Y_test = train_test_split(x , y, test_size = 0.2, random_state = 42)\n",
    "model = AdaBoostRegressor(n_estimators=1000, learning_rate=0.05)\n",
    "model.fit(X_train, Y_train)\n",
    "Y_pred = model.predict(X_test)\n",
    "rsme = np.sqrt(np.mean((Y_pred - Y_test)**2))\n",
    "print(rsme)"
   ]
  },
  {
   "cell_type": "markdown",
   "metadata": {},
   "source": [
    "## Random Forest"
   ]
  },
  {
   "cell_type": "code",
   "execution_count": 103,
   "metadata": {},
   "outputs": [],
   "source": [
    "from sklearn.ensemble import RandomForestRegressor"
   ]
  },
  {
   "cell_type": "code",
   "execution_count": null,
   "metadata": {},
   "outputs": [],
   "source": [
    "data_clean = pd.read_csv('data.csv')\n",
    "train_data = data_clean.drop(columns=['int_rate'], axis=1)\n",
    "target = data_clean['int_rate']\n",
    "x = train_data\n",
    "y = target\n",
    "x.replace([np.inf, -np.inf], np.nan, inplace=True)\n",
    "for col in x.columns:\n",
    "    x.loc[x[col].isna(), col] = x[col].median()"
   ]
  },
  {
   "cell_type": "code",
   "execution_count": 104,
   "metadata": {},
   "outputs": [
    {
     "name": "stdout",
     "output_type": "stream",
     "text": [
      "4.067423826229491\n"
     ]
    }
   ],
   "source": [
    "X_train, X_test, Y_train, Y_test = train_test_split(x , y, test_size = 0.2, random_state = 42)\n",
    "model = RandomForestRegressor(n_estimators=1000, max_depth=5, random_state=0)\n",
    "model.fit(X_train, Y_train)\n",
    "Y_pred = model.predict(X_test)\n",
    "rsme = np.sqrt(np.mean((Y_pred - Y_test)**2))\n",
    "print(rsme)"
   ]
  },
  {
   "cell_type": "markdown",
   "metadata": {},
   "source": [
    "### Using Cross Validation for each of the models. We have used the cv as 10."
   ]
  },
  {
   "cell_type": "code",
   "execution_count": 105,
   "metadata": {},
   "outputs": [],
   "source": [
    "model_lr = LinearRegression()\n",
    "model_rfg = RandomForestRegressor(n_estimators=1000, max_depth=5, random_state=0)\n",
    "model_xgb = XGBRegressor(n_estimators=1000, learning_rate=0.05)\n",
    "model_ada = AdaBoostRegressor(n_estimators=1000, learning_rate=0.05)"
   ]
  },
  {
   "cell_type": "code",
   "execution_count": 106,
   "metadata": {},
   "outputs": [],
   "source": [
    "from sklearn.model_selection import cross_val_score"
   ]
  },
  {
   "cell_type": "code",
   "execution_count": 115,
   "metadata": {},
   "outputs": [],
   "source": [
    "cv = 10"
   ]
  },
  {
   "cell_type": "code",
   "execution_count": 113,
   "metadata": {},
   "outputs": [],
   "source": [
    "mse_lr = cross_val_score(model_lr, X_train, Y_train, scoring='neg_mean_squared_error', n_jobs = 4, cv=cv)"
   ]
  },
  {
   "cell_type": "code",
   "execution_count": 114,
   "metadata": {},
   "outputs": [],
   "source": [
    "mse_ada = cross_val_score(model_ada, X_train, Y_train, scoring='neg_mean_squared_error', n_jobs = 4, cv=cv)"
   ]
  },
  {
   "cell_type": "code",
   "execution_count": 116,
   "metadata": {},
   "outputs": [],
   "source": [
    "mse_xgb = cross_val_score(model_xgb, X_train, Y_train, scoring='neg_mean_squared_error', n_jobs = 4, cv=cv)"
   ]
  },
  {
   "cell_type": "code",
   "execution_count": 117,
   "metadata": {},
   "outputs": [],
   "source": [
    "mse_rfg = cross_val_score(model_rfg, X_train, Y_train, scoring='neg_mean_squared_error', n_jobs = 4, cv=cv)"
   ]
  },
  {
   "cell_type": "code",
   "execution_count": 122,
   "metadata": {},
   "outputs": [],
   "source": [
    "rmse_lr = np.sqrt(np.mean(np.abs(mse_lr)))\n",
    "rmse_ada = np.sqrt(np.mean(np.abs(mse_ada)))\n",
    "rmse_xgb = np.sqrt(np.mean(np.abs(mse_xgb)))\n",
    "rmse_rfg = np.sqrt(np.mean(np.abs(mse_rfg)))"
   ]
  },
  {
   "cell_type": "code",
   "execution_count": 126,
   "metadata": {},
   "outputs": [
    {
     "name": "stdout",
     "output_type": "stream",
     "text": [
      "Linear Regression:   3.713103873532236\n",
      "AdaBoost Regressor:   4.485732411802682\n",
      "XGBoost Regressor:   3.5350554578851305\n",
      "Random Forest Regressor:   3.961696568072887\n"
     ]
    }
   ],
   "source": [
    "print('Linear Regression:  ', rmse_lr)\n",
    "print('AdaBoost Regressor:  ', rmse_ada)\n",
    "print('XGBoost Regressor:  ', rmse_xgb)\n",
    "print('Random Forest Regressor:  ', rmse_rfg)"
   ]
  },
  {
   "cell_type": "markdown",
   "metadata": {},
   "source": [
    "In both the approaches we find that XGBoost perform the best as it has the least RMSE value. Hence we will try to change the xgboost parameters to find the best training parameters for the model."
   ]
  },
  {
   "cell_type": "code",
   "execution_count": 127,
   "metadata": {},
   "outputs": [],
   "source": [
    "from sklearn.model_selection import GridSearchCV"
   ]
  },
  {
   "cell_type": "code",
   "execution_count": 128,
   "metadata": {},
   "outputs": [],
   "source": [
    "data_clean = pd.read_csv('data.csv')\n",
    "train_data = data_clean.drop(columns=['int_rate'], axis=1)\n",
    "target = data_clean['int_rate']\n",
    "x = train_data\n",
    "y = target\n",
    "x.replace([np.inf, -np.inf], np.nan, inplace=True)\n",
    "for col in x.columns:\n",
    "    x.loc[x[col].isna(), col] = x[col].median()"
   ]
  },
  {
   "cell_type": "code",
   "execution_count": 131,
   "metadata": {},
   "outputs": [
    {
     "name": "stdout",
     "output_type": "stream",
     "text": [
      "Fitting 5 folds for each of 54 candidates, totalling 270 fits\n",
      "Best parameters: {'colsample_bytree': 0.3, 'learning_rate': 0.05, 'max_depth': 3, 'n_estimators': 1000}\n",
      "Lowest RMSE:  3.4960104411927153\n"
     ]
    }
   ],
   "source": [
    "params = { 'max_depth': [3,6,10],\n",
    "           'learning_rate': [0.01, 0.05, 0.1],\n",
    "           'n_estimators': [100, 500, 1000],\n",
    "           'colsample_bytree': [0.3, 0.7]}\n",
    "\n",
    "xgbr = XGBRegressor(seed = 20)\n",
    "\n",
    "clf = GridSearchCV(estimator=xgbr, \n",
    "                   param_grid=params,\n",
    "                   scoring='neg_mean_squared_error', \n",
    "                   verbose=1,\n",
    "                   n_jobs = 4)\n",
    "\n",
    "clf.fit(x, y)\n",
    "print(\"Best parameters:\", clf.best_params_)\n",
    "print(\"Lowest RMSE: \", (-clf.best_score_)**(1/2.0))"
   ]
  },
  {
   "cell_type": "code",
   "execution_count": 133,
   "metadata": {},
   "outputs": [],
   "source": [
    "#cv results in a table\n",
    "cv_results = pd.DataFrame(clf.cv_results_)"
   ]
  },
  {
   "cell_type": "code",
   "execution_count": 135,
   "metadata": {},
   "outputs": [],
   "source": [
    "cv_results.to_csv('cv_results.csv')"
   ]
  },
  {
   "cell_type": "markdown",
   "metadata": {},
   "source": [
    "#### Now we will build a model with the best parameters of xg boost and test its accuracy"
   ]
  },
  {
   "cell_type": "code",
   "execution_count": 152,
   "metadata": {},
   "outputs": [],
   "source": [
    "data_clean = pd.read_csv('data.csv')\n",
    "train_data = data_clean.drop(columns=['int_rate'], axis=1)\n",
    "target = data_clean['int_rate']\n",
    "x = train_data\n",
    "y = target\n",
    "x.replace([np.inf, -np.inf], np.nan, inplace=True)\n",
    "for col in x.columns:\n",
    "    x.loc[x[col].isna(), col] = x[col].median()"
   ]
  },
  {
   "cell_type": "code",
   "execution_count": 155,
   "metadata": {},
   "outputs": [
    {
     "name": "stdout",
     "output_type": "stream",
     "text": [
      "[13:10:57] WARNING: /Users/runner/work/xgboost/xgboost/python-package/build/temp.macosx-11.0-arm64-3.8/xgboost/src/learner.cc:627: \n",
      "Parameters: { \"colsample_bytree\", \"max_depth\" } might not be used.\n",
      "\n",
      "  This could be a false alarm, with some parameters getting used by language bindings but\n",
      "  then being mistakenly passed down to XGBoost core, or some parameter actually being used\n",
      "  but getting flagged wrongly here. Please open an issue if you find any such cases.\n",
      "\n",
      "\n",
      "3.9034819892409414\n"
     ]
    }
   ],
   "source": [
    "X_train, X_test, Y_train, Y_test = train_test_split(x , y, test_size = 0.2, random_state = 42)\n",
    "model_final = XGBRegressor(n_estimators=1000, learning_rate=0.05, max_depth=3, colsample_bytree=0.3, booster=\"gblinear\")\n",
    "model_final.fit(X_train, Y_train)\n",
    "Y_pred = model_final.predict(X_test)\n",
    "rsme = np.sqrt(np.mean((Y_pred - Y_test)**2))\n",
    "print(rsme)"
   ]
  },
  {
   "cell_type": "code",
   "execution_count": 156,
   "metadata": {},
   "outputs": [],
   "source": [
    "#getting the coeffiecients\n",
    "coef = pd.Series(model_final.coef_, index=x.columns)"
   ]
  },
  {
   "cell_type": "code",
   "execution_count": 151,
   "metadata": {},
   "outputs": [],
   "source": [
    "coef.to_csv('coef.csv')"
   ]
  },
  {
   "cell_type": "code",
   "execution_count": 157,
   "metadata": {},
   "outputs": [
    {
     "name": "stdout",
     "output_type": "stream",
     "text": [
      "Unnamed: 0 1.9261863e-07\n",
      "loan_amnt 6.974981e-08\n",
      "annual_inc -5.2205568e-08\n",
      "zip_code 1.7162012e-05\n",
      "dti 0.00010628729\n",
      "delinq_2yrs 0.0083260955\n",
      "fico_range_low -1.696759e-06\n",
      "fico_range_high -1.9741371e-06\n",
      "inq_last_6mths 0.0037653565\n",
      "mths_since_last_delinq -0.0001287134\n",
      "mths_since_last_record 8.9207264e-05\n",
      "open_acc 5.523335e-05\n",
      "pub_rec 0.0002900873\n",
      "revol_bal 1.766685e-07\n",
      "revol_util 0.00021755915\n",
      "total_acc -0.00014273499\n",
      "out_prncp 8.6708036e-07\n",
      "out_prncp_inv 8.311319e-07\n",
      "last_fico_range_high -2.6396912e-05\n",
      "last_fico_range_low -2.6279678e-05\n",
      "collections_12_mths_ex_med 0.007867141\n",
      "policy_code 0.014955473\n",
      "acc_now_delinq -0.03856531\n",
      "tot_coll_amt 4.596863e-09\n",
      "tot_cur_bal 5.241379e-09\n",
      "open_acc_6m 0.0007877686\n",
      "open_act_il -0.00072947156\n",
      "open_il_12m 0.0029986312\n",
      "open_il_24m 0.00023683405\n",
      "mths_since_rcnt_il -2.675134e-06\n",
      "total_bal_il -4.9735206e-08\n",
      "il_util 9.4033334e-05\n",
      "open_rv_12m -0.00053503277\n",
      "open_rv_24m 0.00036218867\n",
      "max_bal_bc -1.08841284e-07\n",
      "all_util 0.00027690598\n",
      "total_rev_hi_lim -2.0128645e-07\n",
      "inq_fi 0.0010834193\n",
      "total_cu_tl -0.00016339822\n",
      "inq_last_12m 0.0004688628\n",
      "acc_open_past_24mths 0.000252301\n",
      "avg_cur_bal -1.1824795e-07\n",
      "bc_open_to_buy -2.0588413e-07\n",
      "bc_util 6.8195e-05\n",
      "chargeoff_within_12_mths 0.0060524154\n",
      "delinq_amnt 2.569662e-05\n",
      "mo_sin_old_il_acct -2.1550588e-05\n",
      "mo_sin_old_rev_tl_op -3.3000484e-05\n",
      "mo_sin_rcnt_rev_tl_op -7.039032e-05\n",
      "mo_sin_rcnt_tl -5.21453e-05\n",
      "mort_acc -0.0019807336\n",
      "mths_since_recent_bc -7.3949166e-05\n",
      "mths_since_recent_bc_dlq -1.4181032e-05\n",
      "mths_since_recent_inq -6.7149067e-06\n",
      "mths_since_recent_revol_delinq 5.7494904e-06\n",
      "num_accts_ever_120_pd 0.0015602702\n",
      "num_actv_bc_tl -0.000487411\n",
      "num_actv_rev_tl 5.3598607e-05\n",
      "num_bc_sats -0.00016051393\n",
      "num_bc_tl 4.5024288e-05\n",
      "num_il_tl -0.0003088801\n",
      "num_op_rev_tl 0.00011141792\n",
      "num_rev_accts 1.165224e-05\n",
      "num_rev_tl_bal_gt_0 0.0009940786\n",
      "num_sats 0.00030259648\n",
      "num_tl_120dpd_2m 0.0\n",
      "num_tl_30dpd -0.0331922\n",
      "num_tl_90g_dpd_24m -0.0060138986\n",
      "num_tl_op_past_12m 0.0011495751\n",
      "pct_tl_nvr_dlq 6.561557e-05\n",
      "percent_bc_gt_75 0.00025272236\n",
      "pub_rec_bankruptcies 0.0022894286\n",
      "tax_liens 0.0029043334\n",
      "tot_hi_cred_lim -6.1163345e-09\n",
      "total_bal_ex_mort 6.116754e-08\n",
      "total_bc_limit 1.0390715e-07\n",
      "total_il_high_credit_limit 1.0387005e-09\n",
      "term_36months 0.0002735486\n",
      "term_60months 0.047846943\n",
      "emp_length_1year -0.008656844\n",
      "emp_length_10+years -0.009184784\n",
      "emp_length_2years -0.0072809914\n",
      "emp_length_3years -0.006661516\n",
      "emp_length_4years -0.008802822\n",
      "emp_length_5years -0.0076662507\n",
      "emp_length_6years -0.009408003\n",
      "emp_length_7years -0.007871423\n",
      "emp_length_8years -0.007958366\n",
      "emp_length_9years -0.007933711\n",
      "emp_length_1year.1 -0.0054591517\n",
      "home_ownership_MORTGAGE 0.009375296\n",
      "home_ownership_OWN 0.016790576\n",
      "home_ownership_RENT 0.014587316\n",
      "purpose_car 0.010472136\n",
      "purpose_credit_card 0.0038221243\n",
      "purpose_debt_consolidation 0.013821375\n",
      "purpose_home_improvement 0.005153045\n",
      "purpose_house 0.010912429\n",
      "purpose_major_purchase 0.009898557\n",
      "purpose_medical 0.017370809\n",
      "purpose_moving 0.014130925\n",
      "purpose_other 0.014245786\n",
      "purpose_renewable_energy 0.013257054\n",
      "purpose_small_business 0.015892623\n",
      "purpose_vacation 0.01758683\n",
      "purpose_wedding 0.09230336\n",
      "addr_state_AK 0.024470467\n",
      "addr_state_AL 0.013205485\n",
      "addr_state_AR 0.019181084\n",
      "addr_state_AZ 0.006758388\n",
      "addr_state_CA 0.007927685\n",
      "addr_state_CO 0.0037465866\n",
      "addr_state_CT 0.026453791\n",
      "addr_state_DC 0.030496445\n",
      "addr_state_DE 0.022492932\n",
      "addr_state_FL 0.015501753\n",
      "addr_state_GA 0.02108937\n",
      "addr_state_HI 0.018453633\n",
      "addr_state_ID 0.0109879\n",
      "addr_state_IL 0.008906752\n",
      "addr_state_IN 0.009743464\n",
      "addr_state_KS 0.00056772336\n",
      "addr_state_KY 0.017894061\n",
      "addr_state_LA 0.011932365\n",
      "addr_state_MA 0.017947642\n",
      "addr_state_MD 0.022966549\n",
      "addr_state_ME 0.016638545\n",
      "addr_state_MI 0.015690269\n",
      "addr_state_MN 0.011117525\n",
      "addr_state_MO 0.006241566\n",
      "addr_state_MS 0.021519812\n",
      "addr_state_MT 0.016385686\n",
      "addr_state_NC 0.015029093\n",
      "addr_state_ND 0.010265205\n",
      "addr_state_NE 0.0035595687\n",
      "addr_state_NH 0.024578873\n",
      "addr_state_NJ 0.018867332\n",
      "addr_state_NM 0.003804571\n",
      "addr_state_NV 0.005977019\n",
      "addr_state_NY 0.020661421\n",
      "addr_state_OH 0.017582767\n",
      "addr_state_OK 0.006652353\n",
      "addr_state_OR 0.0074526486\n",
      "addr_state_PA 0.017230801\n",
      "addr_state_RI 0.021120574\n",
      "addr_state_SC 0.0198663\n",
      "addr_state_SD -0.004090469\n",
      "addr_state_TN 0.013134797\n",
      "addr_state_TX 0.0082881665\n",
      "addr_state_UT 0.010023578\n",
      "addr_state_VA 0.01727987\n",
      "addr_state_VT 0.028234182\n",
      "addr_state_WA 0.0062185475\n",
      "addr_state_WI 0.013763935\n",
      "addr_state_WV 0.018799223\n",
      "addr_state_WY 0.018640982\n",
      "initial_list_status_f 0.02959942\n",
      "initial_list_status_w 0.009394494\n",
      "application_type_Individual 0.011309535\n",
      "application_type_JointApp 0.0167541\n",
      "disbursement_method_Cash 0.013188477\n",
      "disbursement_method_DirectPay -0.017767021\n"
     ]
    }
   ],
   "source": [
    "for feature, coeff in zip(x.columns, model_final.feature_importances_):\n",
    "    print(feature, coeff)"
   ]
  },
  {
   "cell_type": "code",
   "execution_count": 156,
   "metadata": {},
   "outputs": [],
   "source": [
    "data_clean = pd.read_csv('data.csv')\n"
   ]
  },
  {
   "cell_type": "code",
   "execution_count": 180,
   "metadata": {},
   "outputs": [],
   "source": [
    "train_data = data_clean.drop(columns=['int_rate'], axis=1)\n",
    "train_data.replace([np.inf, -np.inf], np.nan, inplace=True)\n",
    "for col in train_data.columns:\n",
    "    train_data.loc[train_data[col].isna(), col] = train_data[col].median()\n",
    "target = data_clean['int_rate']\n",
    "x = train_data\n",
    "y = target\n"
   ]
  },
  {
   "cell_type": "code",
   "execution_count": 182,
   "metadata": {},
   "outputs": [
    {
     "name": "stdout",
     "output_type": "stream",
     "text": [
      "Original interest rate:  9822    16.02\n",
      "Name: int_rate, dtype: float64\n"
     ]
    }
   ],
   "source": [
    "print(\"Original interest rate: \", data_clean[data_clean['purpose_wedding'] == 1]['int_rate'])"
   ]
  },
  {
   "cell_type": "code",
   "execution_count": 183,
   "metadata": {},
   "outputs": [
    {
     "name": "stdout",
     "output_type": "stream",
     "text": [
      "Predicted interest rate:  [16.023106]\n"
     ]
    }
   ],
   "source": [
    "print(\"Predicted interest rate: \", model_final.predict(x[x['purpose_wedding'] == 1]))"
   ]
  },
  {
   "cell_type": "markdown",
   "metadata": {},
   "source": [
    "Now changing the purpose from wedding to vacation"
   ]
  },
  {
   "cell_type": "code",
   "execution_count": 185,
   "metadata": {},
   "outputs": [],
   "source": [
    "wedding_data = data_clean[data_clean['purpose_wedding'] == 1]"
   ]
  },
  {
   "cell_type": "code",
   "execution_count": null,
   "metadata": {},
   "outputs": [],
   "source": [
    "wedding_data['purpose_wedding'] = wedding_data['purpose_wedding'].replace(1, 0)\n",
    "wedding_data['purpose_vacation'] = wedding_data['purpose_vacation'].replace(0, 1)"
   ]
  },
  {
   "cell_type": "code",
   "execution_count": 190,
   "metadata": {},
   "outputs": [],
   "source": [
    "y_prediction = model_final.predict(wedding_data.drop(columns=['int_rate'], axis=1))"
   ]
  },
  {
   "cell_type": "code",
   "execution_count": 191,
   "metadata": {},
   "outputs": [
    {
     "name": "stdout",
     "output_type": "stream",
     "text": [
      "Predicted interest rate:  [7.7415814]\n"
     ]
    }
   ],
   "source": [
    "print(\"Predicted interest rate: \", y_prediction)"
   ]
  },
  {
   "cell_type": "markdown",
   "metadata": {},
   "source": [
    "Now trying to work with term of the loan."
   ]
  },
  {
   "cell_type": "code",
   "execution_count": 194,
   "metadata": {},
   "outputs": [],
   "source": [
    "train_data = data_clean.drop(columns=['int_rate'], axis=1)\n",
    "train_data.replace([np.inf, -np.inf], np.nan, inplace=True)\n",
    "for col in train_data.columns:\n",
    "    train_data.loc[train_data[col].isna(), col] = train_data[col].median()\n",
    "target = data_clean['int_rate']\n",
    "x = train_data\n",
    "y = target\n"
   ]
  },
  {
   "cell_type": "code",
   "execution_count": 195,
   "metadata": {},
   "outputs": [],
   "source": [
    "y_predict = model_final.predict(x)"
   ]
  },
  {
   "cell_type": "code",
   "execution_count": 202,
   "metadata": {},
   "outputs": [],
   "source": [
    "#replace 1 with 0 and 0 with 1\n",
    "x['term_36months'] = x['term_36months'].replace(0, 1)\n",
    "x['term_60months'] = x['term_60months'].replace(1, 0)"
   ]
  },
  {
   "cell_type": "code",
   "execution_count": 203,
   "metadata": {},
   "outputs": [],
   "source": [
    "y_predict_with_term = model_final.predict(x)"
   ]
  },
  {
   "cell_type": "code",
   "execution_count": 204,
   "metadata": {},
   "outputs": [],
   "source": [
    "sol = pd.concat([y, pd.DataFrame(y_predict), pd.DataFrame(y_predict_with_term)], axis=1)"
   ]
  },
  {
   "cell_type": "code",
   "execution_count": 205,
   "metadata": {},
   "outputs": [],
   "source": [
    "sol.to_csv('term.csv')"
   ]
  },
  {
   "cell_type": "markdown",
   "metadata": {},
   "source": [
    "Now we are also evaluating that the impact of loan purpose on interest rate. In this case we are filtering people who own a house and taking out loans for \"house\" vs taking out for \"home improvements\". The model has predicted that taking out loan for home inprovement is better than taking out for a house. "
   ]
  },
  {
   "cell_type": "code",
   "execution_count": 206,
   "metadata": {},
   "outputs": [],
   "source": [
    "data = pd.read_csv('data.csv')"
   ]
  },
  {
   "cell_type": "code",
   "execution_count": 221,
   "metadata": {},
   "outputs": [
    {
     "data": {
      "text/plain": [
       "loan_amnt  purpose           \n",
       "10000      debt_consolidation    60\n",
       "20000      debt_consolidation    43\n",
       "12000      debt_consolidation    33\n",
       "25000      debt_consolidation    30\n",
       "35000      debt_consolidation    29\n",
       "                                 ..\n",
       "13500      home_improvement       1\n",
       "4400       other                  1\n",
       "13725      medical                1\n",
       "13800      debt_consolidation     1\n",
       "1000       credit_card            1\n",
       "Length: 425, dtype: int64"
      ]
     },
     "execution_count": 221,
     "metadata": {},
     "output_type": "execute_result"
    }
   ],
   "source": [
    "df[(df.home_ownership == 'OWN')][['loan_amnt','purpose']].value_counts()"
   ]
  },
  {
   "cell_type": "code",
   "execution_count": 316,
   "metadata": {},
   "outputs": [],
   "source": [
    "data_clean = pd.read_csv('data.csv')"
   ]
  },
  {
   "cell_type": "code",
   "execution_count": 317,
   "metadata": {},
   "outputs": [],
   "source": [
    "data_clean = data_clean[(data_clean.home_ownership_OWN ==1) & ((data_clean.purpose_home_improvement == 1) | (data_clean.purpose_house == 1) )]"
   ]
  },
  {
   "cell_type": "code",
   "execution_count": 319,
   "metadata": {},
   "outputs": [],
   "source": [
    "target = data_clean['int_rate']\n",
    "train_data = data_clean.drop(columns=['int_rate'], axis=1)\n",
    "train_data.replace([np.inf, -np.inf], np.nan, inplace=True)\n",
    "for col in train_data.columns:\n",
    "    train_data.loc[train_data[col].isna(), col] = train_data[col].median()\n",
    "x = train_data\n",
    "y = target"
   ]
  },
  {
   "cell_type": "code",
   "execution_count": 320,
   "metadata": {},
   "outputs": [
    {
     "data": {
      "text/plain": [
       "Int64Index([   4,   14,   17,  161,  276,  288,  347,  354,  363,  380,\n",
       "            ...\n",
       "            9566, 9567, 9736, 9752, 9758, 9819, 9855, 9858, 9871, 9929],\n",
       "           dtype='int64', length=185)"
      ]
     },
     "execution_count": 320,
     "metadata": {},
     "output_type": "execute_result"
    }
   ],
   "source": [
    "y.index"
   ]
  },
  {
   "cell_type": "code",
   "execution_count": 321,
   "metadata": {},
   "outputs": [],
   "source": [
    "y_predict = model_final.predict(x)"
   ]
  },
  {
   "cell_type": "code",
   "execution_count": 322,
   "metadata": {},
   "outputs": [],
   "source": [
    "x['purpose_home_improvement'] = x['purpose_home_improvement'].replace(0, 1)\n",
    "x['purpose_house'] = x['purpose_house'].replace(1, 0)"
   ]
  },
  {
   "cell_type": "code",
   "execution_count": 323,
   "metadata": {},
   "outputs": [],
   "source": [
    "y_predict_repair = model_final.predict(x)"
   ]
  },
  {
   "cell_type": "code",
   "execution_count": 324,
   "metadata": {},
   "outputs": [
    {
     "data": {
      "text/plain": [
       "(185,)"
      ]
     },
     "execution_count": 324,
     "metadata": {},
     "output_type": "execute_result"
    }
   ],
   "source": [
    "y_predict_repair.shape"
   ]
  },
  {
   "cell_type": "code",
   "execution_count": 325,
   "metadata": {},
   "outputs": [],
   "source": [
    "repairs = pd.concat([pd.DataFrame(y.index), pd.DataFrame(y.values), pd.DataFrame(y_predict), pd.DataFrame(y_predict_repair)], axis=1)"
   ]
  },
  {
   "cell_type": "code",
   "execution_count": 326,
   "metadata": {},
   "outputs": [
    {
     "data": {
      "text/html": [
       "<div>\n",
       "<style scoped>\n",
       "    .dataframe tbody tr th:only-of-type {\n",
       "        vertical-align: middle;\n",
       "    }\n",
       "\n",
       "    .dataframe tbody tr th {\n",
       "        vertical-align: top;\n",
       "    }\n",
       "\n",
       "    .dataframe thead th {\n",
       "        text-align: right;\n",
       "    }\n",
       "</style>\n",
       "<table border=\"1\" class=\"dataframe\">\n",
       "  <thead>\n",
       "    <tr style=\"text-align: right;\">\n",
       "      <th></th>\n",
       "      <th>0</th>\n",
       "      <th>0</th>\n",
       "      <th>0</th>\n",
       "      <th>0</th>\n",
       "    </tr>\n",
       "  </thead>\n",
       "  <tbody>\n",
       "    <tr>\n",
       "      <th>0</th>\n",
       "      <td>4</td>\n",
       "      <td>20.39</td>\n",
       "      <td>19.021673</td>\n",
       "      <td>18.433331</td>\n",
       "    </tr>\n",
       "    <tr>\n",
       "      <th>1</th>\n",
       "      <td>14</td>\n",
       "      <td>14.07</td>\n",
       "      <td>16.195778</td>\n",
       "      <td>15.607435</td>\n",
       "    </tr>\n",
       "    <tr>\n",
       "      <th>2</th>\n",
       "      <td>17</td>\n",
       "      <td>7.34</td>\n",
       "      <td>6.599301</td>\n",
       "      <td>6.010958</td>\n",
       "    </tr>\n",
       "    <tr>\n",
       "      <th>3</th>\n",
       "      <td>161</td>\n",
       "      <td>12.61</td>\n",
       "      <td>18.439182</td>\n",
       "      <td>17.850838</td>\n",
       "    </tr>\n",
       "    <tr>\n",
       "      <th>4</th>\n",
       "      <td>276</td>\n",
       "      <td>9.92</td>\n",
       "      <td>9.453215</td>\n",
       "      <td>9.453215</td>\n",
       "    </tr>\n",
       "    <tr>\n",
       "      <th>...</th>\n",
       "      <td>...</td>\n",
       "      <td>...</td>\n",
       "      <td>...</td>\n",
       "      <td>...</td>\n",
       "    </tr>\n",
       "    <tr>\n",
       "      <th>180</th>\n",
       "      <td>9819</td>\n",
       "      <td>11.99</td>\n",
       "      <td>14.772282</td>\n",
       "      <td>14.183939</td>\n",
       "    </tr>\n",
       "    <tr>\n",
       "      <th>181</th>\n",
       "      <td>9855</td>\n",
       "      <td>7.97</td>\n",
       "      <td>10.498238</td>\n",
       "      <td>10.498238</td>\n",
       "    </tr>\n",
       "    <tr>\n",
       "      <th>182</th>\n",
       "      <td>9858</td>\n",
       "      <td>14.08</td>\n",
       "      <td>15.601143</td>\n",
       "      <td>15.601143</td>\n",
       "    </tr>\n",
       "    <tr>\n",
       "      <th>183</th>\n",
       "      <td>9871</td>\n",
       "      <td>7.35</td>\n",
       "      <td>10.049969</td>\n",
       "      <td>10.049969</td>\n",
       "    </tr>\n",
       "    <tr>\n",
       "      <th>184</th>\n",
       "      <td>9929</td>\n",
       "      <td>10.42</td>\n",
       "      <td>8.624291</td>\n",
       "      <td>8.624291</td>\n",
       "    </tr>\n",
       "  </tbody>\n",
       "</table>\n",
       "<p>185 rows × 4 columns</p>\n",
       "</div>"
      ],
      "text/plain": [
       "        0      0          0          0\n",
       "0       4  20.39  19.021673  18.433331\n",
       "1      14  14.07  16.195778  15.607435\n",
       "2      17   7.34   6.599301   6.010958\n",
       "3     161  12.61  18.439182  17.850838\n",
       "4     276   9.92   9.453215   9.453215\n",
       "..    ...    ...        ...        ...\n",
       "180  9819  11.99  14.772282  14.183939\n",
       "181  9855   7.97  10.498238  10.498238\n",
       "182  9858  14.08  15.601143  15.601143\n",
       "183  9871   7.35  10.049969  10.049969\n",
       "184  9929  10.42   8.624291   8.624291\n",
       "\n",
       "[185 rows x 4 columns]"
      ]
     },
     "execution_count": 326,
     "metadata": {},
     "output_type": "execute_result"
    }
   ],
   "source": [
    "repairs"
   ]
  },
  {
   "cell_type": "code",
   "execution_count": 327,
   "metadata": {},
   "outputs": [],
   "source": [
    "repairs.to_csv('repairs.csv')"
   ]
  },
  {
   "cell_type": "code",
   "execution_count": 162,
   "metadata": {},
   "outputs": [
    {
     "data": {
      "text/plain": [
       "14.0    1057\n",
       "10.0    1020\n",
       "7.0      983\n",
       "12.0     619\n",
       "11.0     583\n",
       "9.0      567\n",
       "13.0     566\n",
       "15.0     545\n",
       "16.0     471\n",
       "8.0      453\n",
       "6.0      434\n",
       "18.0     363\n",
       "5.0      351\n",
       "17.0     349\n",
       "19.0     344\n",
       "20.0     303\n",
       "22.0     291\n",
       "26.0     127\n",
       "25.0     122\n",
       "27.0     114\n",
       "24.0      82\n",
       "23.0      69\n",
       "21.0      66\n",
       "29.0      60\n",
       "31.0      38\n",
       "30.0      23\n",
       "Name: int_rate, dtype: int64"
      ]
     },
     "execution_count": 162,
     "metadata": {},
     "output_type": "execute_result"
    }
   ],
   "source": [
    "df['int_rate'].round().value_counts()"
   ]
  },
  {
   "cell_type": "markdown",
   "metadata": {},
   "source": [
    "### Footnotes\n",
    "https://towardsdatascience.com/cross-validation-and-hyperparameter-tuning-how-to-optimise-your-machine-learning-model-13f005af9d7d\n",
    "\n",
    "https://scikit-learn.org/stable/index.html\n",
    "\n",
    "https://towardsdatascience.com/xgboost-fine-tune-and-optimize-your-model-23d996fab663\n"
   ]
  },
  {
   "cell_type": "markdown",
   "metadata": {},
   "source": []
  }
 ],
 "metadata": {
  "interpreter": {
   "hash": "b0fa6594d8f4cbf19f97940f81e996739fb7646882a419484c72d19e05852a7e"
  },
  "kernelspec": {
   "display_name": "Python 3.9.12 64-bit",
   "language": "python",
   "name": "python3"
  },
  "language_info": {
   "codemirror_mode": {
    "name": "ipython",
    "version": 3
   },
   "file_extension": ".py",
   "mimetype": "text/x-python",
   "name": "python",
   "nbconvert_exporter": "python",
   "pygments_lexer": "ipython3",
   "version": "3.9.12"
  },
  "orig_nbformat": 4
 },
 "nbformat": 4,
 "nbformat_minor": 2
}
